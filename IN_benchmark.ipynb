{
 "cells": [
  {
   "cell_type": "markdown",
   "metadata": {},
   "source": [
    "# IN benchmark"
   ]
  },
  {
   "cell_type": "code",
   "execution_count": 1,
   "metadata": {},
   "outputs": [],
   "source": [
    "%load_ext autoreload\n",
    "%autoreload 2\n",
    "from utils import get_opts\n",
    "from launcher import launch_grid\n",
    "from exps import *"
   ]
  },
  {
   "cell_type": "markdown",
   "metadata": {},
   "source": [
    "## Train on IN benchmark"
   ]
  },
  {
   "cell_type": "code",
   "execution_count": null,
   "metadata": {},
   "outputs": [],
   "source": [
    "opt = get_opts()\n",
    "opt.delete_ckpt = False\n",
    "opt.ngpus = 4\n",
    "grid = {\n",
    "    'steps':[None],\n",
    "    'feat_arch':['ResNet50_224', 'ResNet34_224', 'ResNet18_224'],\n",
    "    'seed':range(3),\n",
    "}\n",
    "\n",
    "jobs = launch_grid(exp_IN_base, opt, grid, folder=f'submitit_runs/0_eccv/IN_benchmark/0_IN/',\n",
    "                   partition='uninterrupted')\n",
    "# use 4 GPUs per experiment --> 11h"
   ]
  },
  {
   "cell_type": "markdown",
   "metadata": {},
   "source": [
    "## Train on IN6k dataset"
   ]
  },
  {
   "cell_type": "code",
   "execution_count": null,
   "metadata": {},
   "outputs": [],
   "source": [
    "opt = get_opts()\n",
    "opt.delete_ckpt = False\n",
    "opt.ngpus = 8 # do not remove this\n",
    "\n",
    "grid = {\n",
    "    'steps':[[50000, 80000, 100000]],#[None],\n",
    "    'feat_arch':['ResNet34_224', 'ResNet50_224', 'ResNet18_224'],\n",
    "    'seed':range(2),\n",
    "}\n",
    "\n",
    "jobs = launch_grid(exp_IN_IN6k, opt, grid, folder=f'submitit_runs/0_eccv/IN_benchmark/1_IN6k_short/',\n",
    "                   partition='priority')"
   ]
  },
  {
   "cell_type": "markdown",
   "metadata": {},
   "source": [
    "## Train on Rand classes - Trade-off 500k images"
   ]
  },
  {
   "cell_type": "code",
   "execution_count": null,
   "metadata": {},
   "outputs": [],
   "source": [
    "opt = get_opts()\n",
    "N = 50000\n",
    "\n",
    "if N == 50000:\n",
    "    opt.ngpus = 1 # for 50k\n",
    "    name = '50k'\n",
    "    ncs = [100, 250, 375]\n",
    "elif N == 500000:\n",
    "    opt.ngpus = 4 # for 500k\n",
    "    name = '500k'\n",
    "    ncs = [555, 1000, 2000, 2500, 5000]\n",
    "else:\n",
    "    raise ValueError('Check')\n",
    "opt.delete_ckpt = False\n",
    "\n",
    "grid = {\n",
    "    'steps':[None],\n",
    "    'feat_arch':['ResNet34_224'],\n",
    "    'nc':ncs,\n",
    "    'seed':range(3),\n",
    "    'N':[N],\n",
    "}\n",
    "\n",
    "jobs = launch_grid(exp_IN_tradeoff, opt, grid, folder=f'submitit_runs/0_eccv/IN_benchmark/2_rand_IN6k_{name}/',\n",
    "                   partition='uninterrupted')"
   ]
  },
  {
   "cell_type": "markdown",
   "metadata": {},
   "source": [
    "## IN split "
   ]
  },
  {
   "cell_type": "code",
   "execution_count": null,
   "metadata": {},
   "outputs": [],
   "source": [
    "opt = get_opts()\n",
    "opt.delete_ckpt = False\n",
    "opt.ngpus = 4\n",
    "\n",
    "grid = {\n",
    "    'steps':[None], \n",
    "    'feat_arch':['ResNet34_224',],\n",
    "    'seed':range(3),\n",
    "    'nsplits':[1, 2, 4, 8],\n",
    "}\n",
    "\n",
    "jobs = launch_grid(exp_IN_split, opt, grid, folder=f'submitit_runs/0_eccv/IN_benchmark/3_IN_split/',\n",
    "                   partition='uninterrupted')\n",
    "# use 4 GPUs per experiment --> 11h"
   ]
  },
  {
   "cell_type": "code",
   "execution_count": null,
   "metadata": {},
   "outputs": [],
   "source": []
  },
  {
   "cell_type": "code",
   "execution_count": 7,
   "metadata": {},
   "outputs": [
    {
     "name": "stdout",
     "output_type": "stream",
     "text": [
      "{'seed': [0, 1, 2], 'nsplits': [2, 1, 8, 4]}\n",
      "03  -  {'nsplits': 2} : 5-shot:79.23±0.15\n",
      "03  -  {'nsplits': 1} : 5-shot:78.15±0.23\n",
      "03  -  {'nsplits': 8} : 5-shot:80.35±0.09\n",
      "03  -  {'nsplits': 4} : 5-shot:80.10±0.15\n"
     ]
    },
    {
     "data": {
      "text/plain": [
       "{'seed': [0, 1, 2], 'nsplits': [2, 1, 8, 4]}"
      ]
     },
     "execution_count": 7,
     "metadata": {},
     "output_type": "execute_result"
    }
   ],
   "source": [
    "from plot_utils import *\n",
    "# DONE - show_grid_and_results('submitit_runs/0_eccv/IN_benchmark/3_IN_split/', shot=1)\n",
    "# show_grid_and_results('submitit_runs/0_eccv/miniIN6k_iSz_84_archs_bench/') # update results in the table\n",
    "# show_grid_and_results('submitit_runs/0_eccv/IN_benchmark/1_IN6k/')\n",
    "# show_grid_and_results('submitit_runs/2_eccv/feat_var_miniIN1k_baseline_384x100_64x600_val_cub//')\n",
    "# show_grid_and_results('submitit_runs/0_eccv/split_miniIN6k_cub/')\n",
    "# show_grid_and_results('submitit_runs/0_eccv/IN_benchmark/1_IN6k_short/')\n",
    "# show_grid_and_results('submitit_runs/2_eccv/miniIN_cub_archs/', shot=1)\n",
    "# show_grid_and_results('submitit_runs/2_eccv/trade_off_64x600_archs/', shot=1)\n",
    "show_grid_and_results('submitit_runs/0_eccv/IN_benchmark/3_IN_split/', shot=5)\n",
    "# evaluate submitit_runs/0_eccv/split_miniIN6k_cub/ models - "
   ]
  },
  {
   "cell_type": "code",
   "execution_count": 74,
   "metadata": {},
   "outputs": [
    {
     "name": "stdout",
     "output_type": "stream",
     "text": [
      "10\n"
     ]
    }
   ],
   "source": [
    "# show_grid_and_results('submitit_runs/0_eccv/split_miniIN6k_cub/')\n",
    "from plot_utils import *\n",
    "# show_grid_and_results('submitit_runs/2_eccv/miniIN6k_iSz_84_archs_bench/')\n",
    "result_dir = 'submitit_runs/2_eccv/miniIN6k_iSz_84_archs_bench/'\n",
    "result_dir = 'submitit_runs/0_eccv/miniIN_cub/'\n",
    "result_dir = 'submitit_runs/0_eccv/miniIN6k_iSz_84_archs_bench/'\n",
    "result_dir = 'submitit_runs/2_eccv/closest_farthest_random_miniIN/'\n",
    "result_dir = 'submitit_runs/2_eccv/feat_var_miniIN1k_baseline_384x100_64x600_val_cub/'\n",
    "results, grid, arg = get_result_dict(result_dir, verbose=False, take={})#'feat_arch':'ResNet10'"
   ]
  },
  {
   "cell_type": "code",
   "execution_count": null,
   "metadata": {},
   "outputs": [],
   "source": []
  },
  {
   "cell_type": "markdown",
   "metadata": {},
   "source": [
    "# PLOT"
   ]
  },
  {
   "cell_type": "code",
   "execution_count": 1,
   "metadata": {},
   "outputs": [
    {
     "data": {
      "text/plain": [
       "{'seed': [1, 0, 2], 'nc': [555, 1000, 2000, 2500, 5000, 100, 250, 375]}"
      ]
     },
     "execution_count": 1,
     "metadata": {},
     "output_type": "execute_result"
    }
   ],
   "source": [
    "from plot_utils import *\n",
    "result_dir = 'submitit_runs/0_eccv/IN_benchmark/2_rand_IN6k_50k/'\n",
    "results, grid, args = get_result_dict(result_dir)\n",
    "grid"
   ]
  },
  {
   "cell_type": "code",
   "execution_count": 16,
   "metadata": {},
   "outputs": [
    {
     "name": "stdout",
     "output_type": "stream",
     "text": [
      "15\n",
      "23\n"
     ]
    },
    {
     "data": {
      "text/plain": [
       "<matplotlib.legend.Legend at 0x7fedf4288a90>"
      ]
     },
     "execution_count": 16,
     "metadata": {},
     "output_type": "execute_result"
    },
    {
     "data": {
      "image/png": "[encoded data removed]",
      "text/plain": [
       "<Figure size 432x288 with 1 Axes>"
      ]
     },
     "metadata": {
      "needs_background": "light"
     },
     "output_type": "display_data"
    }
   ],
   "source": [
    "fig, ax = plt.subplots(figsize=(6, 4))\n",
    "\n",
    "def fct(l,N):\n",
    "    return [int(N//x) for x in l]\n",
    "\n",
    "maxval = -1\n",
    "for i, N in enumerate(['500k','50k']):\n",
    "    result_dir = f'submitit_runs/0_eccv/IN_benchmark/2_rand_IN6k_{N}/'\n",
    "    results, grid, args = get_result_dict(result_dir)\n",
    "    take = {}\n",
    "    results, grid, args = get_result_dict(result_dir, take=take)\n",
    "    if not len(results):\n",
    "        continue\n",
    "    print(len(results))\n",
    "    xaxis, top1ms, top1stds, top5ms, top5stds = get_kshot_mean_std('nc', grid, results)\n",
    "\n",
    "    maxval = max(max(top5ms),maxval)\n",
    "\n",
    "    (_, caps5, _) = ax.errorbar(xaxis, top5ms, top5stds, linestyle='-', marker='.', label=f'{N} images', capsize=2, \n",
    "                                elinewidth=1, color=colors[i])\n",
    "    if N == '500k':\n",
    "        xx = [555, 1000, 2500, 5000]\n",
    "        txts = fct(xx, 500000)\n",
    "        for i, xi in enumerate(xx):\n",
    "            yi = top5ms[np.where(np.array(xaxis)==xi)[0][0]]\n",
    "            ax.annotate(txts[i], (xi, yi+1))#top5ms[i]\n",
    "\n",
    "    elif N == '50k':\n",
    "        xx = [100, 250, 555, 1000, 2500, 5000]\n",
    "        txts = fct(xx, 50000)\n",
    "        for i, xi in enumerate(xx):\n",
    "            yi = top5ms[np.where(np.array(xaxis)==xi)[0][0]]\n",
    "            ax.annotate(txts[i], (xi, yi+1))#top5ms[i]\n",
    "        \n",
    "    \n",
    "ax.set_xscale('log')\n",
    "ax.xaxis.set_major_formatter(NullFormatter())\n",
    "ax.xaxis.set_minor_formatter(NullFormatter())\n",
    "xaxis_labels = [100, 250, 555, 1000, 2500, 5000]\n",
    "\n",
    "ax.set_xticks(xaxis_labels)\n",
    "ax.set_xticklabels(xaxis_labels)\n",
    "ax.set_xlabel(f'Number of classes')\n",
    "ax.set_ylabel('Top-5, 5-shot, 250-way accuracy')\n",
    "\n",
    "ax.plot([389],   [78.20], marker='o', linestyle='None',  label='IN base (~500k images)', color='orange')\n",
    "ax.annotate('~1000', (389, 78.2+1))\n",
    "ax.plot([6000],   [88.50], marker='*', linestyle='None',  label='IN6k (7M images)', color='green')\n",
    "ax.annotate('>900', (6000, 88.50+1))\n",
    "# ax.plot([2*389], [79.23], marker='d', linestyle='None',  label='IN base - split 2', color='orange')\n",
    "# ax.plot([4*389], [80.10], marker='+', linestyle='None',  label='IN base - split 4', color='orange')\n",
    "# ax.plot([8*389], [80.35], marker='x', linestyle='None',  label='IN base - split 8', color='orange')\n",
    "ax.legend()"
   ]
  },
  {
   "cell_type": "code",
   "execution_count": 18,
   "metadata": {},
   "outputs": [],
   "source": [
    "fig.savefig(f'submitit_runs/0_eccv/IN_benchmark/trade_off_50k_500k_IN.pdf', format='pdf', bbox_inches=\"tight\")"
   ]
  },
  {
   "cell_type": "code",
   "execution_count": 17,
   "metadata": {},
   "outputs": [
    {
     "data": {
      "text/plain": [
       "1189.186"
      ]
     },
     "execution_count": 17,
     "metadata": {},
     "output_type": "execute_result"
    }
   ],
   "source": [
    "from datasets import get_dataset\n",
    "dset = get_dataset('miniIN6k')\n",
    "np.mean([len(c) for c in dset.classes])"
   ]
  },
  {
   "cell_type": "code",
   "execution_count": null,
   "metadata": {},
   "outputs": [],
   "source": []
  },
  {
   "cell_type": "code",
   "execution_count": null,
   "metadata": {},
   "outputs": [],
   "source": [
    "## Split miniIN6k - a then do trade-off figureb\n",
    "# 6000*100 - 60000 - \n",
    "grid = {\n",
    "    'N':[600000],\n",
    "    'nc':[6000, 3000, 1500, 750],\n",
    "    'seed':range(3),\n",
    "}\n",
    "\n",
    "# split miniIN6k into 8 then sample from 6000*8 --> TODO\n",
    "grid = {\n",
    "    'N':[600000],\n",
    "    'nc':[12000, ]\n",
    "}"
   ]
  },
  {
   "cell_type": "code",
   "execution_count": null,
   "metadata": {},
   "outputs": [],
   "source": [
    "# 6000 classes x enough images so that when split stays > 100\n",
    "# 6000x900 --> split --> 2,4,8"
   ]
  },
  {
   "cell_type": "code",
   "execution_count": null,
   "metadata": {},
   "outputs": [],
   "source": [
    "# Split miniIN6k dataset and save it to json"
   ]
  },
  {
   "cell_type": "code",
   "execution_count": null,
   "metadata": {},
   "outputs": [],
   "source": []
  },
  {
   "cell_type": "code",
   "execution_count": null,
   "metadata": {},
   "outputs": [],
   "source": [
    "from utils import *\n",
    "import torch\n",
    "from datasets import classDataset\n",
    "from exps import save_dataset_json\n",
    "cluster_type = 'h_median_dich'\n",
    "benchmark = 'cub'\n",
    "feat = 'oracle'\n",
    "\n",
    "# dset = sample_random_classes_images_miniIN6k(benchmark='benchmark')\n",
    "# dset = get_dataset('IN')\n",
    "# dset.transform = get_transform(ttype='miniIN', phase='test')\n",
    "\n",
    "# features, targets = get_dataset_features(dset, feat=feat)\n",
    "\n",
    "for nsplits in [2,4,8]:\n",
    "    new_classes = []\n",
    "    for i,c in enumerate(dset.classes):\n",
    "        cind = c.initial_label\n",
    "#         feats = get_miniIN6k_features_of_class(class_ind=cind, feat=feat)\n",
    "        feats = features[targets==i]\n",
    "        assert len(c) == feats.size(0)\n",
    "        if cluster_type == 'kmeans':\n",
    "            cluster_inds = kmeans_cluster(feats, nsplits, pcaDim=-1, verbose=False)\n",
    "        elif cluster_type == 'h_median_dich':\n",
    "            cluster_inds = hierarchical_splitting(feats, nsplits=nsplits, split_step=split_median)\n",
    "        else:\n",
    "            raise ValueError(f'Unrecognized Clustering type: {cluster_type}')\n",
    "\n",
    "        for j in range(nsplits):\n",
    "            inds = torch.where(cluster_inds==j)[0]\n",
    "            new_class, _ = c.sample_n_images(inds=inds.tolist())\n",
    "            new_classes.append(new_class)\n",
    "        if i %100 == 0:\n",
    "            print(i, len(new_classes))\n",
    "    new_dset = classDataset(classes=new_classes)\n",
    "    new_dset.parent_dset = dset\n",
    "    new_dset.desc = f'Dataset created by splitting each dataset class into {nsplits}'\n",
    "    # save dataset json\n",
    "    save_dataset_json(new_dset, 'data/IN/split_IN/', filename=f'IN_split_{nsplits}_{cluster_type}_{feat}_{len(dset.classes)}.json')\n",
    "    \n"
   ]
  },
  {
   "cell_type": "code",
   "execution_count": 44,
   "metadata": {},
   "outputs": [
    {
     "data": {
      "text/plain": [
       "'IN_split_8_h_median_dich_oracle_389.json'"
      ]
     },
     "execution_count": 44,
     "metadata": {},
     "output_type": "execute_result"
    }
   ],
   "source": [
    "f'IN_split_{nsplits}_{cluster_type}_{feat}_{len(dset.classes)}.json'"
   ]
  },
  {
   "cell_type": "code",
   "execution_count": null,
   "metadata": {},
   "outputs": [],
   "source": [
    "# from plot_utils import show_grid_and_results\n",
    "# show_grid_and_results('submitit_runs/0_eccv/miniIN6k_iSz_84_archs_bench/')"
   ]
  },
  {
   "cell_type": "code",
   "execution_count": null,
   "metadata": {},
   "outputs": [],
   "source": []
  },
  {
   "cell_type": "code",
   "execution_count": null,
   "metadata": {},
   "outputs": [],
   "source": []
  },
  {
   "cell_type": "code",
   "execution_count": null,
   "metadata": {},
   "outputs": [],
   "source": []
  }
 ],
 "metadata": {
  "kernelspec": {
   "display_name": "Python 3",
   "language": "python",
   "name": "python3"
  },
  "language_info": {
   "codemirror_mode": {
    "name": "ipython",
    "version": 3
   },
   "file_extension": ".py",
   "mimetype": "text/x-python",
   "name": "python",
   "nbconvert_exporter": "python",
   "pygments_lexer": "ipython3",
   "version": "3.6.9"
  }
 },
 "nbformat": 4,
 "nbformat_minor": 2
}
